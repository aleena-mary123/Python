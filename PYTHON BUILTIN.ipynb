{
 "cells": [
  {
   "cell_type": "code",
   "execution_count": 4,
   "id": "49d0102b",
   "metadata": {},
   "outputs": [
    {
     "name": "stdout",
     "output_type": "stream",
     "text": [
      "b is greater\n"
     ]
    }
   ],
   "source": [
    "a = 33\n",
    "b = 200\n",
    "if(b>a):\n",
    "    print(\"b is greater\")"
   ]
  },
  {
   "cell_type": "code",
   "execution_count": 18,
   "id": "0b70edd7",
   "metadata": {},
   "outputs": [
    {
     "name": "stdout",
     "output_type": "stream",
     "text": [
      "10.0\n",
      "10\n",
      "Aleena\n",
      "True\n",
      "(3+5j)\n",
      "None\n",
      "<class 'float'>\n",
      "<class 'int'>\n",
      "<class 'str'>\n",
      "<class 'bool'>\n",
      "<class 'complex'>\n",
      "<class 'NoneType'>\n"
     ]
    }
   ],
   "source": [
    "a = 10.0\n",
    "b = 10\n",
    "c = \"Aleena\"\n",
    "d = True\n",
    "e = 3 + 5j\n",
    "f = None\n",
    "print(a)\n",
    "print(b)\n",
    "print(c)\n",
    "print(d)\n",
    "print(e)\n",
    "print(f)\n",
    "print(type(a))\n",
    "print(type(b))\n",
    "print(type(c))\n",
    "print(type(d))\n",
    "print(type(e))\n",
    "print(type(f))"
   ]
  },
  {
   "cell_type": "code",
   "execution_count": 26,
   "id": "519949bb",
   "metadata": {},
   "outputs": [
    {
     "name": "stdout",
     "output_type": "stream",
     "text": [
      "['HONDA', 'HONDA', 'BMW', 'VOLVO', 'SUSUKI']\n",
      "<class 'list'>\n",
      "HONDA\n",
      "VOLVO\n",
      "['HONDA', 'HONDA']\n",
      "['HONDA', 'HONDA', 'BMW', 'VOLVO', 'SUSUKI', 'Tesla']\n"
     ]
    }
   ],
   "source": [
    "cars =[\"HONDA\",\"HONDA\",\"BMW\",\"VOLVO\",\"SUSUKI\"]\n",
    "print(cars)\n",
    "print(type(cars))\n",
    "print(cars[0])\n",
    "print(cars[0-2]) #excluding 2\n",
    "print(cars[0:2])\n",
    "cars.append(\"Tesla\")\n",
    "print(cars)"
   ]
  },
  {
   "cell_type": "code",
   "execution_count": 33,
   "id": "90abb5fe",
   "metadata": {},
   "outputs": [
    {
     "name": "stdout",
     "output_type": "stream",
     "text": [
      "('honda', 'BMW', 'SUZUKI', 'honda')\n",
      "<class 'tuple'>\n",
      "honda\n"
     ]
    }
   ],
   "source": [
    "cars= (\"honda\",\"BMW\",\"SUZUKI\",\"honda\")\n",
    "print(cars)\n",
    "print(type(cars))\n",
    "#cars.append(\"volvo\")\n",
    "print(cars[0])"
   ]
  },
  {
   "cell_type": "code",
   "execution_count": 52,
   "id": "db75553f",
   "metadata": {},
   "outputs": [
    {
     "name": "stdout",
     "output_type": "stream",
     "text": [
      "{'Honda', 'SUZUKI', 'honda', 'BMW'}\n",
      "<class 'set'>\n"
     ]
    }
   ],
   "source": [
    "#cars= {1,5,20,4,3,11,9,10,5}\n",
    "cars= {\"Honda\",\"BMW\",\"SUZUKI\",\"honda\"}\n",
    "print(cars)\n",
    "print(type(cars))"
   ]
  },
  {
   "cell_type": "code",
   "execution_count": 1,
   "id": "c1ccc80d",
   "metadata": {},
   "outputs": [
    {
     "name": "stdout",
     "output_type": "stream",
     "text": [
      "{'Tropical': ['Apple', 'Grapes', 'Orange'], 'Rate': ['150', '80', '70']}\n",
      "<class 'dict'>\n",
      "['Apple', 'Grapes', 'Orange']\n"
     ]
    }
   ],
   "source": [
    "fruits = {\"Tropical\":[\"Apple\",\"Grapes\",\"Orange\"],\n",
    "         \"Rate\":[\"150\",\"80\",\"70\"]}\n",
    "print(fruits)\n",
    "print(type(fruits))\n",
    "print(fruits['Tropical'])"
   ]
  },
  {
   "cell_type": "code",
   "execution_count": null,
   "id": "7d8167eb",
   "metadata": {},
   "outputs": [],
   "source": [
    "a=input(\"Enter first number:\")\n",
    "b=input(\"Enter second number:\")\n",
    "c=in(a)+int(b);\n",
    "print(type(c))\n",
    "print(c)"
   ]
  }
 ],
 "metadata": {
  "kernelspec": {
   "display_name": "Python 3 (ipykernel)",
   "language": "python",
   "name": "python3"
  },
  "language_info": {
   "codemirror_mode": {
    "name": "ipython",
    "version": 3
   },
   "file_extension": ".py",
   "mimetype": "text/x-python",
   "name": "python",
   "nbconvert_exporter": "python",
   "pygments_lexer": "ipython3",
   "version": "3.9.7"
  }
 },
 "nbformat": 4,
 "nbformat_minor": 5
}
