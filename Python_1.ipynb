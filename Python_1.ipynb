{
 "cells": [
  {
   "cell_type": "code",
   "execution_count": 4,
   "id": "c38a63ba",
   "metadata": {},
   "outputs": [
    {
     "name": "stdout",
     "output_type": "stream",
     "text": [
      "b is greater\n"
     ]
    }
   ],
   "source": [
    "a = 33\n",
    "b = 200\n",
    "if(b>a):\n",
    "    print(\"b is greater\")"
   ]
  },
  {
   "cell_type": "code",
   "execution_count": null,
   "id": "80e6d616",
   "metadata": {},
   "outputs": [],
   "source": []
  },
  {
   "cell_type": "code",
   "execution_count": 2,
   "id": "5b76b030",
   "metadata": {},
   "outputs": [
    {
     "name": "stdout",
     "output_type": "stream",
     "text": [
      "Enter first number:10\n",
      "Enter second number:20\n",
      "30\n"
     ]
    }
   ],
   "source": [
    "a=input(\"Enter first number:\")\n",
    "b=input(\"Enter second number:\")\n",
    "c=int(a)+int(b);\n",
    "print(c)\n",
    "\n"
   ]
  },
  {
   "cell_type": "code",
   "execution_count": 18,
   "id": "cadb1302",
   "metadata": {},
   "outputs": [
    {
     "name": "stdout",
     "output_type": "stream",
     "text": [
      "Enter first number:3\n",
      "Enter second number:2\n",
      "enter the operator+\n",
      "5\n"
     ]
    }
   ],
   "source": [
    "a=int(input(\"Enter first number:\"))\n",
    "b=int(input(\"Enter second number:\"))\n",
    "c=input(\"enter the operator\")\n",
    "result=0\n",
    "if c=='+':\n",
    "    result=a+b\n",
    "    print(result)\n",
    "elif c=='-':\n",
    "    result= a-b\n",
    "    print(result)\n",
    "else:\n",
    "    result=a*b\n",
    "    print(result)\n",
    "\n",
    "    "
   ]
  },
  {
   "cell_type": "code",
   "execution_count": 21,
   "id": "a47d69ad",
   "metadata": {},
   "outputs": [
    {
     "name": "stdout",
     "output_type": "stream",
     "text": [
      "33\n"
     ]
    }
   ],
   "source": [
    "import random\n",
    "print(random.randrange(1,61))"
   ]
  },
  {
   "cell_type": "code",
   "execution_count": 49,
   "id": "be666699",
   "metadata": {},
   "outputs": [
    {
     "name": "stdout",
     "output_type": "stream",
     "text": [
      "True\n",
      "A\n",
      "Mary\n",
      "Aleena\n",
      "leena Mary V S\n",
      "ry V \n",
      "ALEENA MARY V S\n",
      "aleena mary v s\n",
      "Aleena Mary V S\n",
      "['Aleena', 'Mary', 'V', 'S']\n",
      "Jleena Mary V S\n"
     ]
    }
   ],
   "source": [
    "name = \"Aleena Mary V S\"\n",
    "#for x in name:\n",
    "print(\"Mary\" in name) #check\n",
    "print(name[0])\n",
    "print(name[7:11]) #slicing\n",
    "print(name[:6])\n",
    "print(name[1:])\n",
    "print(name[-6:-1]) #negative slicing\n",
    "print(name.upper()) #modify strings\n",
    "print(name.lower())\n",
    "print(name.strip()) #white space remove\n",
    "print(name.split()) #splitting,return type is list\n",
    "print(name.replace('A','J')) #replacing"
   ]
  },
  {
   "cell_type": "code",
   "execution_count": 15,
   "id": "6a096837",
   "metadata": {},
   "outputs": [
    {
     "name": "stdout",
     "output_type": "stream",
     "text": [
      "grapes\n",
      "['apple', 'grapes', 'strawberry', 'blueberry', 1]\n",
      "['grapes', 'strawberry']\n",
      "['apple', 'grapes', 'banana', 'strawberry', 'blueberry', 1]\n",
      "['apple', 'grapes', 'banana', 'strawberry', 'blueberry', 1, 'm', 'a', 'n', 'g', 'o']\n",
      "11\n",
      "['apple', 'grapes', 'strawberry', 'blueberry', 1, 'm', 'a', 'n', 'g', 'o']\n",
      "['apple', 'grapes', 'strawberry', 'blueberry', 1, 'm', 'a', 'n', 'g']\n",
      "['grapes', 'strawberry', 'blueberry', 1, 'm', 'a', 'n', 'g']\n"
     ]
    }
   ],
   "source": [
    "fruits=[\"apple\",\"grapes\",\"strawberry\"]\n",
    "print(fruits[1])\n",
    "fruits.append(\"blueberry\") #added list item\n",
    "fruits.append(1) #added list item\n",
    "print(fruits)\n",
    "print(fruits[1:3]) #accessing list items\n",
    "fruits.insert(2,\"banana\") #inserting value to the list\n",
    "print(fruits)\n",
    "fruits.extend(\"mango\")#extending to list\n",
    "print(fruits)\n",
    "print(len(fruits)) #length of the list\n",
    "fruits.remove(\"banana\") #removing data from list\n",
    "print(fruits)\n",
    "fruits.pop(9)#removing data from list\n",
    "print(fruits)\n",
    "del fruits[0]#removing data from list\n",
    "print(fruits)\n"
   ]
  },
  {
   "cell_type": "code",
   "execution_count": 17,
   "id": "7a880b0b",
   "metadata": {},
   "outputs": [
    {
     "data": {
      "text/plain": [
       "[]"
      ]
     },
     "execution_count": 17,
     "metadata": {},
     "output_type": "execute_result"
    }
   ],
   "source": [
    "a=[1,2,3]\n",
    "a.clear()\n",
    "a"
   ]
  },
  {
   "cell_type": "code",
   "execution_count": 33,
   "id": "a9c692e7",
   "metadata": {},
   "outputs": [
    {
     "name": "stdout",
     "output_type": "stream",
     "text": [
      "apple\n",
      "grapes\n",
      "cherry\n"
     ]
    }
   ],
   "source": [
    "thislist = [\"apple\", \"grapes\", \"cherry\"] #for loop\n",
    "for x in thislist:\n",
    "    print(x)"
   ]
  },
  {
   "cell_type": "code",
   "execution_count": 20,
   "id": "c0eaea42",
   "metadata": {},
   "outputs": [
    {
     "name": "stdout",
     "output_type": "stream",
     "text": [
      "apple\n",
      "grapes\n",
      "cherry\n"
     ]
    }
   ],
   "source": [
    "thislist = [\"apple\", \"grapes\", \"cherry\"] #for loop with range\n",
    "for i in range(len(thislist)):\n",
    "    print(thislist[i])"
   ]
  },
  {
   "cell_type": "code",
   "execution_count": 40,
   "id": "bb14c8dc",
   "metadata": {},
   "outputs": [
    {
     "name": "stdout",
     "output_type": "stream",
     "text": [
      "['apple', 'grapes', 'strawberry']\n"
     ]
    }
   ],
   "source": [
    "fruits=[\"apple\",\"grapes\",\"strawberry\",\"kiwi\"] #list comprehension\n",
    "newlist=[x for x in fruits if \"a\" in x]\n",
    "print(newlist)"
   ]
  },
  {
   "cell_type": "code",
   "execution_count": 46,
   "id": "4c4d2d66",
   "metadata": {},
   "outputs": [
    {
     "name": "stdout",
     "output_type": "stream",
     "text": [
      "['Banana', 'Mango', 'kiwi', 'orange', 'pineapple']\n"
     ]
    }
   ],
   "source": [
    "thislist=[\"orange\", \"Mango\", \"kiwi\", \"pineapple\", \"Banana\"]\n",
    "thislist.sort()\n",
    "print(thislist)\n"
   ]
  },
  {
   "cell_type": "code",
   "execution_count": 47,
   "id": "dc1c2513",
   "metadata": {},
   "outputs": [
    {
     "name": "stdout",
     "output_type": "stream",
     "text": [
      "['pineapple', 'orange', 'mango', 'kiwi', 'banana']\n"
     ]
    }
   ],
   "source": [
    "thislist = [\"orange\", \"mango\", \"kiwi\", \"pineapple\", \"banana\"]\n",
    "thislist.sort(reverse = True)\n",
    "print(thislist)"
   ]
  },
  {
   "cell_type": "code",
   "execution_count": 50,
   "id": "b23bd332",
   "metadata": {},
   "outputs": [
    {
     "name": "stdout",
     "output_type": "stream",
     "text": [
      "HELLO FROM A FUNCTION\n"
     ]
    }
   ],
   "source": [
    "def my_function():\n",
    "    print(\"HELLO FROM A FUNCTION\")\n",
    "my_function()"
   ]
  },
  {
   "cell_type": "code",
   "execution_count": 59,
   "id": "f4e418e8",
   "metadata": {},
   "outputs": [
    {
     "name": "stdout",
     "output_type": "stream",
     "text": [
      "Aleena Mary\n"
     ]
    }
   ],
   "source": [
    "def my_function(fname, lname):\n",
    "    print(fname + \" \" + lname)\n",
    "\n",
    "my_function(\"Aleena\", \"Mary\")"
   ]
  },
  {
   "cell_type": "code",
   "execution_count": 60,
   "id": "1fe43ff3",
   "metadata": {},
   "outputs": [
    {
     "name": "stdout",
     "output_type": "stream",
     "text": [
      "The youngest child is Linus\n"
     ]
    }
   ],
   "source": [
    "def my_function(*kids):\n",
    "  print(\"The youngest child is \" + kids[2])\n",
    "\n",
    "my_function(\"Emil\", \"Tobias\", \"Linus\")"
   ]
  },
  {
   "cell_type": "code",
   "execution_count": 66,
   "id": "ccbf07dc",
   "metadata": {},
   "outputs": [
    {
     "name": "stdout",
     "output_type": "stream",
     "text": [
      "Mary\n"
     ]
    }
   ],
   "source": [
    "def my_function(*kids):\n",
    "    print(kids[1])\n",
    "\n",
    "my_function(\"Aleena\", \"Mary\")"
   ]
  },
  {
   "cell_type": "code",
   "execution_count": 67,
   "id": "b9bb4f3a",
   "metadata": {},
   "outputs": [
    {
     "name": "stdout",
     "output_type": "stream",
     "text": [
      "His last name is Refsnes\n"
     ]
    }
   ],
   "source": [
    "def my_function(**kid):\n",
    "  print(\"His last name is \" + kid[\"lname\"])\n",
    "\n",
    "my_function(fname = \"Tobias\", lname = \"Refsnes\")\n"
   ]
  },
  {
   "cell_type": "code",
   "execution_count": 68,
   "id": "4715d816",
   "metadata": {},
   "outputs": [
    {
     "name": "stdout",
     "output_type": "stream",
     "text": [
      "I am from Sweden\n",
      "I am from India\n",
      "I am from Norway\n",
      "I am from Brazil\n"
     ]
    }
   ],
   "source": [
    "def my_function(country = \"Norway\"): #default parameter value\n",
    "  print(\"I am from \" + country)\n",
    "\n",
    "my_function(\"Sweden\")\n",
    "my_function(\"India\")\n",
    "my_function()\n",
    "my_function(\"Brazil\")"
   ]
  },
  {
   "cell_type": "code",
   "execution_count": 71,
   "id": "053a0457",
   "metadata": {},
   "outputs": [
    {
     "name": "stdout",
     "output_type": "stream",
     "text": [
      "apple\n",
      "grapes\n"
     ]
    }
   ],
   "source": [
    "def my_function(food): #Passing a List as an Argument\n",
    "    for x in food:\n",
    "        print(x)\n",
    "        \n",
    "fruit=[\"apple\",\"grapes\"]\n",
    "    \n",
    "my_function(fruit)"
   ]
  },
  {
   "cell_type": "code",
   "execution_count": 3,
   "id": "3383b01e",
   "metadata": {},
   "outputs": [
    {
     "name": "stdout",
     "output_type": "stream",
     "text": [
      "strawberry\n",
      "grapes\n"
     ]
    }
   ],
   "source": [
    "def my_fun(food):  #passing a list as argument\n",
    "    for x in food:\n",
    "        print(x)\n",
    "fruit=[\"strawberry\",\"grapes\"]\n",
    "my_fun(fruit)"
   ]
  },
  {
   "cell_type": "code",
   "execution_count": null,
   "id": "dfa7463a",
   "metadata": {},
   "outputs": [],
   "source": [
    "def tri_rec(k):\n",
    "    if(k>0):\n",
    "        result=k+tri_rec(k-1)\n",
    "        print (result)\n",
    "    else:\n",
    "        result=0\n",
    "        return result"
   ]
  },
  {
   "cell_type": "code",
   "execution_count": 4,
   "id": "96a34a7d",
   "metadata": {},
   "outputs": [
    {
     "name": "stdout",
     "output_type": "stream",
     "text": [
      "[50, 65, 23, 82, 100]\n"
     ]
    }
   ],
   "source": [
    "def myfunc(n): #customize sort function\n",
    "    return abs(n-50)\n",
    "\n",
    "thislist=[100, 50, 65, 82, 23]\n",
    "thislist.sort(key=myfunc)\n",
    "print(thislist)"
   ]
  },
  {
   "cell_type": "code",
   "execution_count": 8,
   "id": "e45ff0c1",
   "metadata": {},
   "outputs": [
    {
     "name": "stdout",
     "output_type": "stream",
     "text": [
      "['a', 'b', 'c', 1]\n",
      "['a', 'b', 'c', 1]\n"
     ]
    }
   ],
   "source": [
    "list1=[\"a\",\"b\",\"c\"] #just referencing\n",
    "list1.append(1)\n",
    "list2=list1\n",
    "print(list2)\n",
    "print(list1)"
   ]
  },
  {
   "cell_type": "code",
   "execution_count": 9,
   "id": "ce08befc",
   "metadata": {},
   "outputs": [
    {
     "name": "stdout",
     "output_type": "stream",
     "text": [
      "['apple', 'grapes']\n"
     ]
    }
   ],
   "source": [
    "list1=[\"apple\",\"grapes\"] #copy list\n",
    "list2=list1.copy()\n",
    "print(list2)"
   ]
  },
  {
   "cell_type": "code",
   "execution_count": 10,
   "id": "d3e82e30",
   "metadata": {},
   "outputs": [
    {
     "name": "stdout",
     "output_type": "stream",
     "text": [
      "['a', 'b', 'c', 1, 2, 3]\n"
     ]
    }
   ],
   "source": [
    "list1 = [\"a\", \"b\", \"c\"] #join list\n",
    "list2 = [1, 2, 3]\n",
    "\n",
    "list3 = list1 + list2\n",
    "print(list3)"
   ]
  },
  {
   "cell_type": "code",
   "execution_count": 12,
   "id": "11c56931",
   "metadata": {},
   "outputs": [
    {
     "name": "stdout",
     "output_type": "stream",
     "text": [
      "['a', 'b', 'c', 1, 2, 3, 3, 3, 3, 4, 3]\n"
     ]
    },
    {
     "data": {
      "text/plain": [
       "5"
      ]
     },
     "execution_count": 12,
     "metadata": {},
     "output_type": "execute_result"
    }
   ],
   "source": [
    "list1=[\"a\",\"b\",\"c\"]\n",
    "list2=[1,2,3,3,3,3,4,3]\n",
    "list3=list1+list2\n",
    "print(list3)\n",
    "list3.count(3)"
   ]
  },
  {
   "cell_type": "code",
   "execution_count": 34,
   "id": "d0744322",
   "metadata": {},
   "outputs": [
    {
     "name": "stdout",
     "output_type": "stream",
     "text": [
      "apple\n",
      "grapes\n",
      "strawberry\n"
     ]
    }
   ],
   "source": [
    "thislist = [\"apple\", \"grapes\", \"strawberry\"]  #while loop\n",
    "i = 0\n",
    "while i<len(thislist):\n",
    "    print(thislist[i])\n",
    "    i=i+1"
   ]
  },
  {
   "cell_type": "code",
   "execution_count": 35,
   "id": "fb73e573",
   "metadata": {},
   "outputs": [
    {
     "name": "stdout",
     "output_type": "stream",
     "text": [
      "apple\n",
      "grapes\n",
      "strawberry\n"
     ]
    },
    {
     "data": {
      "text/plain": [
       "[None, None, None]"
      ]
     },
     "execution_count": 35,
     "metadata": {},
     "output_type": "execute_result"
    }
   ],
   "source": [
    "thislist=[\"apple\",\"grapes\",\"strawberry\"] #list comprehension\n",
    "[print(x) for x in thislist]"
   ]
  },
  {
   "cell_type": "code",
   "execution_count": 52,
   "id": "311c5392",
   "metadata": {},
   "outputs": [
    {
     "name": "stdout",
     "output_type": "stream",
     "text": [
      "AleenaMaryVS\n"
     ]
    }
   ],
   "source": [
    "a=\"Aleena\"\n",
    "b=\"Mary\"\n",
    "c=\"VS\"\n",
    "d=a+b+c\n",
    "print(d)"
   ]
  },
  {
   "cell_type": "code",
   "execution_count": 18,
   "id": "e76f8a4d",
   "metadata": {},
   "outputs": [
    {
     "name": "stdout",
     "output_type": "stream",
     "text": [
      "10.0\n",
      "10\n",
      "Aleena\n",
      "True\n",
      "(3+5j)\n",
      "None\n",
      "<class 'float'>\n",
      "<class 'int'>\n",
      "<class 'str'>\n",
      "<class 'bool'>\n",
      "<class 'complex'>\n",
      "<class 'NoneType'>\n"
     ]
    }
   ],
   "source": [
    "a = 10.0\n",
    "b = 10\n",
    "c = \"Aleena\"\n",
    "d = True\n",
    "e = 3 + 5j\n",
    "f = None\n",
    "print(a)\n",
    "print(b)\n",
    "print(c)\n",
    "print(d)\n",
    "print(e)\n",
    "print(f)\n",
    "print(type(a))\n",
    "print(type(b))\n",
    "print(type(c))\n",
    "print(type(d))\n",
    "print(type(e))\n",
    "print(type(f))"
   ]
  },
  {
   "cell_type": "code",
   "execution_count": 26,
   "id": "adec0a9e",
   "metadata": {},
   "outputs": [
    {
     "name": "stdout",
     "output_type": "stream",
     "text": [
      "['HONDA', 'HONDA', 'BMW', 'VOLVO', 'SUSUKI']\n",
      "<class 'list'>\n",
      "HONDA\n",
      "VOLVO\n",
      "['HONDA', 'HONDA']\n",
      "['HONDA', 'HONDA', 'BMW', 'VOLVO', 'SUSUKI', 'Tesla']\n"
     ]
    }
   ],
   "source": [
    "cars =[\"HONDA\",\"HONDA\",\"BMW\",\"VOLVO\",\"SUSUKI\"]\n",
    "print(cars)\n",
    "print(type(cars))\n",
    "print(cars[0])\n",
    "print(cars[0-2]) #excluding 2\n",
    "print(cars[0:2])\n",
    "cars.append(\"Tesla\")\n",
    "print(cars)"
   ]
  },
  {
   "cell_type": "code",
   "execution_count": 33,
   "id": "7fa2ffb8",
   "metadata": {},
   "outputs": [
    {
     "name": "stdout",
     "output_type": "stream",
     "text": [
      "('honda', 'BMW', 'SUZUKI', 'honda')\n",
      "<class 'tuple'>\n",
      "honda\n"
     ]
    }
   ],
   "source": [
    "cars= (\"honda\",\"BMW\",\"SUZUKI\",\"honda\")\n",
    "print(cars)\n",
    "print(type(cars))\n",
    "#cars.append(\"volvo\")\n",
    "print(cars[0])"
   ]
  },
  {
   "cell_type": "code",
   "execution_count": 52,
   "id": "1e1e8093",
   "metadata": {},
   "outputs": [
    {
     "name": "stdout",
     "output_type": "stream",
     "text": [
      "{'Honda', 'SUZUKI', 'honda', 'BMW'}\n",
      "<class 'set'>\n"
     ]
    }
   ],
   "source": [
    "#cars= {1,5,20,4,3,11,9,10,5}\n",
    "cars= {\"Honda\",\"BMW\",\"SUZUKI\",\"honda\"}\n",
    "print(cars)\n",
    "print(type(cars))"
   ]
  },
  {
   "cell_type": "code",
   "execution_count": 53,
   "id": "d033b1b8",
   "metadata": {},
   "outputs": [
    {
     "name": "stdout",
     "output_type": "stream",
     "text": [
      "{'Tropical': ['Apple', 'Grapes', 'Orange'], 'Rate': ['150', '80', '70']}\n",
      "<class 'dict'>\n"
     ]
    }
   ],
   "source": [
    "fruits = {\"Tropical\":[\"Apple\",\"Grapes\",\"Orange\"],\n",
    "         \"Rate\":[\"150\",\"80\",\"70\"]}\n",
    "print(fruits)\n",
    "print(type(fruits))\n",
    "print(fruits)"
   ]
  },
  {
   "cell_type": "code",
   "execution_count": 1,
   "id": "0f84ce63",
   "metadata": {},
   "outputs": [
    {
     "name": "stdout",
     "output_type": "stream",
     "text": [
      "banana\n"
     ]
    }
   ],
   "source": [
    "thistuple = (\"apple\", \"banana\", \"cherry\")  #access tuple\n",
    "print(thistuple[1])"
   ]
  },
  {
   "cell_type": "code",
   "execution_count": 7,
   "id": "2f5a8a00",
   "metadata": {},
   "outputs": [
    {
     "name": "stdout",
     "output_type": "stream",
     "text": [
      "{'A': 1, 'a': 1}\n",
      "2\n"
     ]
    }
   ],
   "source": [
    "thisdict={\"A\":1,\"a\":1} #dict case sensitive\n",
    "print(thisdict)\n",
    "print(len(thisdict)) #length of dictionary"
   ]
  },
  {
   "cell_type": "code",
   "execution_count": 23,
   "id": "76a97c88",
   "metadata": {},
   "outputs": [
    {
     "name": "stdout",
     "output_type": "stream",
     "text": [
      "{'brand': ['ford', 'suzuki', 'Honda', 'Benz'], 'models': ['Ecosport', 'wagonar', 'Amaze', 'A3'], 'price': [100000, 250000, 450000, 500000]}\n",
      "['Ecosport', 'wagonar', 'Amaze', 'A3']\n",
      "['Ecosport', 'wagonar', 'Amaze', 'A3']\n",
      "dict_values([['ford', 'suzuki', 'Honda', 'Benz'], ['Ecosport', 'wagonar', 'Amaze', 'A3'], [100000, 250000, 450000, 500000]])\n",
      "dict_keys(['brand', 'models', 'price'])\n",
      "yes\n",
      "no\n"
     ]
    }
   ],
   "source": [
    "cars={\n",
    "    \"brand\":[\"ford\",\"suzuki\",\"Honda\",\"Benz\"],\n",
    "    \"models\":[\"Ecosport\",\"wagonar\",\"Amaze\",\"A3\"],\n",
    "    \"price\":[100000,250000,450000,500000]\n",
    "}\n",
    "print(cars)\n",
    "x=cars[\"models\"]\n",
    "print(x)\n",
    "\n",
    "x=cars.get(\"models\")  #get()\n",
    "print(x)\n",
    "\n",
    "x=cars.values()  #values()\n",
    "print(x)\n",
    "\n",
    "x=cars.keys()  #keys()\n",
    "print(x)\n",
    "\n",
    "if \"price\" in cars: #in keyword\n",
    "    print(\"yes\")\n",
    "else:\n",
    "    print(\"no\")\n",
    "    \n",
    "if \"price\" not in cars:  #not in keyword\n",
    "    print(\"yes\")\n",
    "else:\n",
    "    print(\"no\")"
   ]
  },
  {
   "cell_type": "code",
   "execution_count": 33,
   "id": "308d1ddd",
   "metadata": {},
   "outputs": [
    {
     "name": "stdout",
     "output_type": "stream",
     "text": [
      "{'animal': ['lion', 'cat', 'dog', 'tiger'], 'wild': ('lion', 'tiger'), 'domestic': {'cat', 'dog'}, 'boolean': 'true'}\n"
     ]
    }
   ],
   "source": [
    "thisdict={ \n",
    "    \"animal\":[\"lion\",\"cat\",\"dog\",\"tiger\"], #list\n",
    "    \"wild\":(\"lion\",\"tiger\"), #tuple\n",
    "    \"domestic\":{\"dog\",\"cat\"}, #set\n",
    "    \"boolean\":(\"true\") #boolean\n",
    "    }\n",
    "print(thisdict)"
   ]
  },
  {
   "cell_type": "code",
   "execution_count": 38,
   "id": "b4551cf9",
   "metadata": {},
   "outputs": [
    {
     "name": "stdout",
     "output_type": "stream",
     "text": [
      "{'dict': {'a': ('mango', 'apple'), 'b': {1, 2}, 'c': ['lion', 'dog'], 'd': None}}\n"
     ]
    }
   ],
   "source": [
    "thisdict={\n",
    "    \"dict\":{\"a\":(\"mango\",\"apple\"), #tuple\n",
    "           \"b\":{1,2},  #set\n",
    "           \"c\":[\"lion\",\"dog\"],  #list\n",
    "            \"d\":(None)\n",
    "           }\n",
    "}\n",
    "print(thisdict)"
   ]
  },
  {
   "cell_type": "code",
   "execution_count": 55,
   "id": "fdd64bcf",
   "metadata": {},
   "outputs": [
    {
     "name": "stdout",
     "output_type": "stream",
     "text": [
      "{'brand': ['ford', 'suzuki', 'Honda', 'Benz'], 'models': ['Ecosport', 'wagonar', 'Amaze', 'A3'], 'price': [5000000, 250000, 450000, 500000]}\n",
      "{'brand': ['ford', 'suzuki', 'Honda', 'Benz'], 'models': ['Ecosport', 'wagonar', 'Amaze', 'A3'], 'price': [5000000, 250000, 450000]}\n",
      "{'brand': ['ford', 'suzuki', 'Honda', 'Benz'], 'models': ['Ecosport', 'wagonar', 'Amaze', 'A3']}\n",
      "{'brand': ['ford', 'Honda', 'Benz'], 'models': ['Ecosport', 'wagonar', 'Amaze', 'A3']}\n"
     ]
    }
   ],
   "source": [
    "cars={\n",
    "    \"brand\":[\"ford\",\"suzuki\",\"Honda\",\"Benz\"],\n",
    "    \"models\":[\"Ecosport\",\"wagonar\",\"Amaze\",\"A3\"],\n",
    "    \"price\":[100000,250000,450000,500000]\n",
    "}\n",
    "\n",
    "cars[\"price\"][0]=5000000\n",
    "print(cars)\n",
    "\n",
    "del cars[\"price\"][3]\n",
    "print(cars)\n",
    "  \n",
    "cars.popitem()\n",
    "print(cars)\n",
    "    \n",
    "del cars[\"brand\"][1]\n",
    "print(cars)\n",
    "    \n",
    "#cars[\"price\"]=450000\n",
    "#print(cars)\n",
    "#cars.update(\"price\"[]: 20020)\n",
    "#print(cars)\n"
   ]
  },
  {
   "cell_type": "code",
   "execution_count": 59,
   "id": "5f1e5fed",
   "metadata": {},
   "outputs": [
    {
     "name": "stdout",
     "output_type": "stream",
     "text": [
      "ford\n",
      "suzuki\n",
      "Honda\n",
      "Benz\n"
     ]
    }
   ],
   "source": [
    "cars={\n",
    "    \"brand\":[\"ford\",\"suzuki\",\"Honda\",\"Benz\"],\n",
    "    \"models\":[\"Ecosport\",\"wagonar\",\"Amaze\",\"A3\"],\n",
    "    \"price\":[100000,250000,450000,500000]\n",
    "}\n",
    "\n",
    "for x in cars[\"brand\"]:\n",
    "    print(x)"
   ]
  },
  {
   "cell_type": "code",
   "execution_count": 61,
   "id": "fe24fb42",
   "metadata": {},
   "outputs": [
    {
     "name": "stdout",
     "output_type": "stream",
     "text": [
      "{'brand': ['ford', 'suzuki', 'Honda', 'Benz'], 'models': ['Ecosport', 'wagonar', 'Amaze', 'A3'], 'price': [100000, 250000, 450000, 500000]}\n"
     ]
    }
   ],
   "source": [
    "cars={\n",
    "    \"brand\":[\"ford\",\"suzuki\",\"Honda\",\"Benz\"],\n",
    "    \"models\":[\"Ecosport\",\"wagonar\",\"Amaze\",\"A3\"],\n",
    "    \"price\":[100000,250000,450000,500000]\n",
    "}\n",
    "\n",
    "mydict = cars.copy()\n",
    "print(mydict)"
   ]
  },
  {
   "cell_type": "code",
   "execution_count": 66,
   "id": "adcd3f60",
   "metadata": {},
   "outputs": [
    {
     "name": "stdout",
     "output_type": "stream",
     "text": [
      "{'child1': {'name': 'Emil', 'year': 2004}, 'child2': {'name': 'Tobias', 'year': 2007}, 'child3': {'name': 'Linus', 'year': 2011}}\n"
     ]
    }
   ],
   "source": [
    "family = {\n",
    "  \"child1\" : {\n",
    "    \"name\" : \"Emil\",\n",
    "    \"year\" : 2004\n",
    "  },\n",
    "     \"child2\" : {\n",
    "    \"name\" : \"Tobias\",\n",
    "    \"year\" : 2007\n",
    "  },\n",
    "  \"child3\" : {\n",
    "    \"name\" : \"Linus\",\n",
    "    \"year\" : 2011\n",
    "  }\n",
    "}\n",
    "print(family)"
   ]
  },
  {
   "cell_type": "code",
   "execution_count": null,
   "id": "5a9050d3",
   "metadata": {},
   "outputs": [],
   "source": [
    "i = 1\n",
    "while i < 6:\n",
    "    print(i)\n",
    "i += 1"
   ]
  },
  {
   "cell_type": "code",
   "execution_count": null,
   "id": "afb9bd27",
   "metadata": {},
   "outputs": [],
   "source": [
    "for i in range(5):\n",
    "    print(i)"
   ]
  },
  {
   "cell_type": "code",
   "execution_count": null,
   "id": "a87a52dc",
   "metadata": {},
   "outputs": [],
   "source": []
  }
 ],
 "metadata": {
  "kernelspec": {
   "display_name": "Python 3 (ipykernel)",
   "language": "python",
   "name": "python3"
  },
  "language_info": {
   "codemirror_mode": {
    "name": "ipython",
    "version": 3
   },
   "file_extension": ".py",
   "mimetype": "text/x-python",
   "name": "python",
   "nbconvert_exporter": "python",
   "pygments_lexer": "ipython3",
   "version": "3.9.7"
  }
 },
 "nbformat": 4,
 "nbformat_minor": 5
}
