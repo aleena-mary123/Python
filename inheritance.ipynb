{
 "cells": [
  {
   "cell_type": "code",
   "execution_count": 2,
   "id": "8c85d637",
   "metadata": {},
   "outputs": [
    {
     "name": "stdout",
     "output_type": "stream",
     "text": [
      "Aleena Mary V S\n"
     ]
    }
   ],
   "source": [
    "class person:\n",
    "    def __init__(self,fname,mname,lname):\n",
    "        self.fname =fname\n",
    "        self.lname=lname\n",
    "        self.mname=mname\n",
    "    def printname(self):\n",
    "        print(self.fname,self.mname,self.lname)\n",
    "a=person(\"Aleena\",\"Mary\",\"V S\")\n",
    "a.printname()"
   ]
  },
  {
   "cell_type": "code",
   "execution_count": 30,
   "id": "d936398c",
   "metadata": {},
   "outputs": [
    {
     "name": "stdout",
     "output_type": "stream",
     "text": [
      "Aleena Mary V S\n"
     ]
    }
   ],
   "source": [
    "class Person:\n",
    "    def __init__(self,fname,mname,lname):\n",
    "        self.fname=fname\n",
    "        self.mname=mname\n",
    "        self.lname=lname\n",
    "    def printname(self):\n",
    "        print(self.fname,self.mname,self.lname)\n",
    "    \n",
    "a = Person(\"Aleena\",\"Mary\",\"V S\")\n",
    "a.printname()\n",
    "class Student(Person):\n",
    "    def __init__(self,fname,lname):\n",
    "       \n",
    "             \n",
    "            "
   ]
  },
  {
   "cell_type": "code",
   "execution_count": 39,
   "id": "2706f6e6",
   "metadata": {},
   "outputs": [
    {
     "name": "stdout",
     "output_type": "stream",
     "text": [
      "Employee\n",
      "Employee1\n"
     ]
    }
   ],
   "source": [
    "#polymorphism\n",
    "class employee:\n",
    "    def __init__(self,dept,sal):\n",
    "        self.dept=dept\n",
    "        self.sal=sal\n",
    "    def printd(self):\n",
    "        print(\"Employee\")\n",
    "class employee1:\n",
    "    def __init__(self,dept,sal):\n",
    "        self.dept=dept\n",
    "        self.sal=sal\n",
    "    def printd(self):\n",
    "        print(\"Employee1\")\n",
    "e=employee(\"sales\",100000)\n",
    "e1=employee1(\"Finance\",500000)\n",
    "for x in (e,e1):\n",
    "    x.printd()\n"
   ]
  },
  {
   "cell_type": "code",
   "execution_count": 47,
   "id": "baa17faf",
   "metadata": {},
   "outputs": [
    {
     "name": "stdout",
     "output_type": "stream",
     "text": [
      "\"{\\\"Name\\\":\\\"Aleena\\\",\\\"Age\\\":\\\"22\\\"}\"\n",
      "<class 'str'>\n"
     ]
    }
   ],
   "source": [
    "#python to json\n",
    "import json\n",
    "a = '{\"Name\":\"Aleena\",\"Age\":\"22\"}'\n",
    "b = json.dumps(a)\n",
    "print(b)\n",
    "print(type(b))"
   ]
  },
  {
   "cell_type": "code",
   "execution_count": 48,
   "id": "fcbcf672",
   "metadata": {},
   "outputs": [
    {
     "name": "stdout",
     "output_type": "stream",
     "text": [
      "{'Name': 'Aleena', 'Age': '22'}\n",
      "<class 'dict'>\n"
     ]
    }
   ],
   "source": [
    "#json to python\n",
    "import json\n",
    "a = '{\"Name\":\"Aleena\",\"Age\":\"22\"}'\n",
    "b = json.loads(a)\n",
    "print(b)\n",
    "print(type(b))"
   ]
  },
  {
   "cell_type": "code",
   "execution_count": 49,
   "id": "f4276db0",
   "metadata": {},
   "outputs": [
    {
     "ename": "FileNotFoundError",
     "evalue": "[Errno 2] No such file or directory: 'demo.txt'",
     "output_type": "error",
     "traceback": [
      "\u001b[1;31m---------------------------------------------------------------------------\u001b[0m",
      "\u001b[1;31mFileNotFoundError\u001b[0m                         Traceback (most recent call last)",
      "\u001b[1;32m~\\AppData\\Local\\Temp/ipykernel_11008/3883822204.py\u001b[0m in \u001b[0;36m<module>\u001b[1;34m\u001b[0m\n\u001b[1;32m----> 1\u001b[1;33m \u001b[0mf\u001b[0m \u001b[1;33m=\u001b[0m \u001b[0mopen\u001b[0m\u001b[1;33m(\u001b[0m\u001b[1;34m\"demo.txt\"\u001b[0m\u001b[1;33m)\u001b[0m\u001b[1;33m\u001b[0m\u001b[1;33m\u001b[0m\u001b[0m\n\u001b[0m",
      "\u001b[1;31mFileNotFoundError\u001b[0m: [Errno 2] No such file or directory: 'demo.txt'"
     ]
    }
   ],
   "source": [
    "f = open(\"demo.txt\")"
   ]
  },
  {
   "cell_type": "code",
   "execution_count": 53,
   "id": "51977876",
   "metadata": {},
   "outputs": [
    {
     "ename": "FileExistsError",
     "evalue": "[Errno 17] File exists: 'demo.txt'",
     "output_type": "error",
     "traceback": [
      "\u001b[1;31m---------------------------------------------------------------------------\u001b[0m",
      "\u001b[1;31mFileExistsError\u001b[0m                           Traceback (most recent call last)",
      "\u001b[1;32m~\\AppData\\Local\\Temp/ipykernel_11008/2724669157.py\u001b[0m in \u001b[0;36m<module>\u001b[1;34m\u001b[0m\n\u001b[1;32m----> 1\u001b[1;33m \u001b[0mf\u001b[0m\u001b[1;33m=\u001b[0m \u001b[0mopen\u001b[0m\u001b[1;33m(\u001b[0m\u001b[1;34m\"demo.txt\"\u001b[0m\u001b[1;33m,\u001b[0m\u001b[1;34m\"x\"\u001b[0m\u001b[1;33m)\u001b[0m\u001b[1;33m\u001b[0m\u001b[1;33m\u001b[0m\u001b[0m\n\u001b[0m",
      "\u001b[1;31mFileExistsError\u001b[0m: [Errno 17] File exists: 'demo.txt'"
     ]
    }
   ],
   "source": [
    "f= open(\"demo.txt\",\"x\")"
   ]
  },
  {
   "cell_type": "code",
   "execution_count": null,
   "id": "f6cbc05e",
   "metadata": {},
   "outputs": [],
   "source": []
  }
 ],
 "metadata": {
  "kernelspec": {
   "display_name": "Python 3 (ipykernel)",
   "language": "python",
   "name": "python3"
  },
  "language_info": {
   "codemirror_mode": {
    "name": "ipython",
    "version": 3
   },
   "file_extension": ".py",
   "mimetype": "text/x-python",
   "name": "python",
   "nbconvert_exporter": "python",
   "pygments_lexer": "ipython3",
   "version": "3.9.7"
  }
 },
 "nbformat": 4,
 "nbformat_minor": 5
}
